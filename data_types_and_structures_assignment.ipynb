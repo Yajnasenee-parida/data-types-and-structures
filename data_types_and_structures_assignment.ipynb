{
  "nbformat": 4,
  "nbformat_minor": 0,
  "metadata": {
    "colab": {
      "provenance": []
    },
    "kernelspec": {
      "name": "python3",
      "display_name": "Python 3"
    },
    "language_info": {
      "name": "python"
    }
  },
  "cells": [
    {
      "cell_type": "markdown",
      "source": [
        "# Data Types and Structures Questions's Answer\n",
        "\n",
        "1. Data structures are specialized formats for organizing, storing, and accessing collections of data.And they are important for choosing the right data structure significantly impacts the efficiency and performance of your program.\n",
        "\n",
        "2. A mutable data type is one that allows its contents to be modified after it has been created. This means you can change, add, or remove elements without creating a new object. In Python, common mutable data type include lists, dictionaries, and sets. But in immutable data type elements not be allowed to modified or any changes in data. In python,common immutable data types are string, tuple.\n",
        "\n",
        "Examples:\n",
        "\n",
        "list:\n",
        "\n",
        "my_list=[\"milk\",\"apple\",\"orange\"]\n",
        "my_list.insert(1,\"banana\")\n",
        "['milk','banana','apple','orange']\n",
        "\n",
        "set:\n",
        "\n",
        "my_set = {1,2,3,4}\n",
        "my_set.remove(3)\n",
        "my_set\n",
        "{1,2,4,100}\n",
        "\n",
        "dictionary:\n",
        "\n",
        "my_dict ={\"name\":\"pwskill\",\"email\":pwskill@gmail.com\"}\n",
        "my_dict[\"name\"]=\"data science\"\n",
        "my_dict\n",
        "{'name':'data science','email':'pwskill@gmail.com'}\n",
        "\n",
        "\n",
        "string:\n",
        "\n",
        "s=\"pwskills\"\n",
        "s[0]\n",
        "'p'\n",
        "s[0]=\"a\"\n",
        "error\n",
        "\n",
        "\n",
        "tuple:\n",
        "\n",
        "emp id =(1,2,3,4,5)\n",
        "emo id[1]=100\n",
        "error\n",
        "\n",
        "3. The main differences between lists and tuples in python are list is mutable but tuple is immutable.\n",
        "\n",
        "4. Dictionary is a data structure that stores data as key value pair. Keys are unique and immutable.\n",
        "\n",
        "5. In Python, sets and lists are both used to store collections of elements, but they have distinct characteristics that make sets preferable in certain scenarios:\n",
        "\n",
        "Set: Automatically removes duplicate elements, ensuring all items are unique.\n",
        "\n",
        "List: Allows duplicates, so you need to manually handle uniqueness if required.\n",
        "\n",
        "Use Case: Use a set when you need a collection of unique items, such as tracking unique user IDs.\n",
        "\n",
        "6. In Python, strings and lists are both sequences, but they serve different purposes and have distinct characteristics:\n",
        "\n",
        "A string is a sequence of characters enclosed in single ('), double (\"), or triple quotes (''' or \"\"\").\n",
        "Strings are immutable, meaning once created, they cannot be changed.\n",
        "Strings are used to represent text data.\n",
        "\n",
        "my_string = \"Hello, World!\"\n",
        "\n",
        "A list is a collection of items (elements) that can be of different data types, enclosed in square brackets ([]).\n",
        "Lists are mutable, meaning you can modify, add, or remove elements after creation.\n",
        "Lists are used to store multiple items in a single variable.\n",
        "\n",
        "my_list = [1, \"Hello\", 3.14, True]\n",
        "\n",
        "7. Tuples in Python ensure data integrity through their immutability and other key characteristics:\n",
        "\n",
        "Immutability:\n",
        "Once a tuple is created, its elements cannot be modified, added, or removed. This ensures that the data remains constant and prevents accidental changes, making tuples ideal for storing fixed collections of data.\n",
        "\n",
        "8. A hash table is a data structure that maps keys to values using a hashing function. The hashing function computes an index (or hash code) for a given key, which determines where the corresponding value is stored in an underlying array. This allows for efficient data retrieval, insertion, and deletion, typically with an average time complexity of O(1).\n",
        "\n",
        "Hashing: Converts keys into indices for storage.\n",
        "\n",
        "Collision Handling: Resolves cases where multiple keys hash to the same index (e.g., via chaining or open addressing).\n",
        "\n",
        "Dynamic Resizing: Adjusts the size of the table to maintain efficiency as the number of elements grows.\n",
        "\n",
        "9. Yes, Python lists can contain elements of different data types. This flexibility is one of the strengths of Python's list data structure. For example, a single list can include integers, strings, floats, booleans, and even other lists or complex objects.\n",
        "\n",
        "10. In Python, strings are immutable, meaning once a string is created, it cannot be changed. This design choice offers several advantages:\n",
        "\n",
        "Strings are stored in memory as objects. When strings are immutable, Python can safely reuse the same memory location for identical strings, reducing memory usage. This is known as string interning.\n",
        "\n",
        "Immutability ensures that strings are safe to use in multi-threaded environments. Since they cannot be modified, there’s no risk of one thread altering a string while another is using it.\n",
        "\n",
        "11. Dictionaries and lists are two fundamental data structures commonly used in programming, especially in Python. While both store collections of items, they serve different purposes and offer distinct advantages depending on the task.\n",
        "\n",
        ". Dictionaries: Store data as key-value pairs, meaning you can directly access values using unique keys. This allows for very fast lookups (average O(1) time complexity) if you know the key.\n",
        "\n",
        ". Lists: Store data as ordered sequences accessible by numeric index. Accessing an item by index is fast (O(1)), but searching for a value by content requires scanning through the list (O(n)).\n",
        "\n",
        "Advantage:\n",
        "\n",
        "When you need quick retrieval based on a unique identifier (key), dictionaries are much more efficient and intuitive.\n",
        "\n",
        "12. Tuples and lists are both used to store collections of data in Python, but they differ in key characteristics such as mutability, performance, and memory usage. A tuple is immutable, meaning its contents cannot be changed after creation, while a list is mutable and allows modifications. Here’s a scenario where using a tuple is preferable:\n",
        "\n",
        "Scenario: Storing Fixed, Immutable Data\n",
        "\n",
        "If you need to store a collection of data that should remain constant throughout the program's execution, a tuple is the better choice. For example, consider storing the coordinates of a point in a 2D space:\n",
        "\n",
        "# Using a tuple to store immutable data\n",
        "coordinates = (10, 20)\n",
        "\n",
        "# Accessing elements\n",
        "x, y = coordinates\n",
        "print(f\"X: {x}, Y: {y}\")\n",
        "\n",
        "In this case, the coordinates are fixed and should not be modified. Using a tuple ensures data integrity by preventing accidental changes. If you attempt to modify the tuple, Python will raise a TypeError.\n",
        "\n",
        "\n",
        "13. In Python, sets are designed to store unique elements. When you add duplicate values to a set, Python automatically removes the duplicates, ensuring that each element appears only once.\n",
        "\n",
        "# Creating a set with duplicates\n",
        "my_set = {1, 2, 2, 3, 4, 4, 5}\n",
        "print(my_set)  # Output: {1, 2, 3, 4, 5}\n",
        "\n",
        "\n",
        "14. The in keyword in Python is used for membership testing, but its behavior and efficiency differ depending on the data structure:\n",
        "\n",
        "1. For Lists\n",
        "How it works: The in keyword performs a linear search through the list. It checks each element one by one until it finds a match or reaches the end of the list.\n",
        "Time Complexity: O(n)O(n), where n is the number of elements in the list. The search time increases as the list grows longer.\n",
        "\n",
        "my_list = [1, 2, 3, 4, 5]\n",
        "print(3 in my_list)  # Output: True\n",
        "print(6 in my_list)  # Output: False\n",
        "\n",
        "2. For Dictionaries\n",
        "How it works: The in keyword checks for keys only, not values. It uses a hash table internally, which allows for very fast lookups.\n",
        "Time Complexity: O(1)O(1) on average, regardless of the dictionary size, due to the efficiency of hash-based lookups.\n",
        "\n",
        "my_dict = {'a': 1, 'b': 2, 'c': 3}\n",
        "print('b' in my_dict)  # Output: True\n",
        "print(2 in my_dict)    # Output: False (values are not checked)\n",
        "\n",
        "\n",
        "15. No, you don't modify the elements of a tuple. Tuple are ordered, immutable collections of elements. However, once created, the items in a tuple cannot be changed. They provide a secure way to store data that shouldn't be modified.\n",
        "\n",
        "\n",
        "16. A nested dictionary in Python is a dictionary inside another dictionary. This allows you to store complex data structures in a single dictionary. Each key in the outer dictionary can map to another dictionary, enabling hierarchical data storage.\n",
        "\n",
        "people = {\n",
        "1: {'name': 'John', 'age': '27', 'sex': 'Male'},\n",
        "2: {'name': 'Marie', 'age': '22', 'sex': 'Female'}\n",
        "}\n",
        "print(people)\n",
        "\n",
        "{1: {'name': 'John', 'age': '27', 'sex': 'Male'}, 2: {'name': 'Marie', 'age': '22', 'sex': 'Female'}}\n",
        "\n",
        "\n",
        "17. dictionaries provide a fast and efficient way to store and retrieve data using key value pair so understanding the time complexities of dictionary operations is very important for optimizing performance in our programs.\n",
        "\n",
        "The time complexity of retrieving a value by its key in a dictionary is O(1). This is because dictionaries use a hash table internally which allows constant time lookup.\n",
        "\n",
        "\n",
        "18. Lists and Dictionaries in Python are inbuilt data structures that are used to store data. Lists are linear in nature whereas dictionaries stored the data in key-value pairs.\n",
        "\n",
        "In list We can store all types of items (including another list) in a list. A list may contain mixed type of items, this is possible because a list mainly stores references at contiguous locations and actual items maybe stored at different locations.\n",
        "\n",
        "A Python dictionary is a data structure that stores the value in key: value pairs. Values in a dictionary can be of any data type and can be duplicated, whereas keys can’t be repeated and must be immutable.\n",
        "\n",
        "\n",
        "19. Dictionaries in Python are often referred to as unordered collections because they do not guarantee any specific order of their elements based on insertion or key values. This characteristic stems from their underlying implementation as hash tables, which prioritize fast key-based lookups over maintaining order.\n",
        "\n",
        "\n",
        "20. List: A list is a collection of ordered elements that can be of multiple types. Lists allow random access to elements using indices, which start from 0. Lists are mutable, meaning you can modify their elements after creation. You can add elements using methods like append() and extend(), and remove elements using methods like remove() and pop().\n",
        "\n",
        "Example:\n",
        "my_list = [1,2,3,4]\n",
        "my_list.append(100)  -adding\n",
        "my_list  -output\n",
        "[1,2,3,4,100]\n",
        "\n",
        "\n",
        "Dictionary:  A dictionary is a collection of key-value pairs.  Dictionaries allow random access to values using keys, which must be of an immutable data type (e.g., integers, strings, tuples). Dictionaries are also mutable, allowing you to add, modify, or remove key-value pairs. You can add elements using the assignment operator or the update() method.\n",
        "\n",
        "Example:\n",
        "my_dict = {\"name\":\"pwskills\",\"email\":\"pwskills\"}\n",
        "my_dict[\"contact\"]= 12345\n",
        "my_dict   - output\n",
        "{'name':'pwskills','email':'pwskills','contact':12345}\n",
        "\n",
        "\n"
      ],
      "metadata": {
        "id": "DSekmMPBDsiS"
      }
    },
    {
      "cell_type": "markdown",
      "source": [
        "#Practical Questions"
      ],
      "metadata": {
        "id": "7g9OB7VsSWRJ"
      }
    },
    {
      "cell_type": "code",
      "source": [
        "# 1\n",
        "my_name = \"yajnasenee\"\n",
        "print(\" Hello, my name is\", my_name)"
      ],
      "metadata": {
        "id": "mJNiQYPAgOmZ",
        "colab": {
          "base_uri": "https://localhost:8080/"
        },
        "outputId": "6eb0239e-7da2-463e-af16-cb712cf18027"
      },
      "execution_count": null,
      "outputs": [
        {
          "output_type": "stream",
          "name": "stdout",
          "text": [
            " Hello, my name is yajnasenee\n"
          ]
        }
      ]
    },
    {
      "cell_type": "code",
      "source": [
        "# 2\n",
        "my_str = \"Hello World\"\n",
        "len(my_str)"
      ],
      "metadata": {
        "id": "r_b-GYr3f68-",
        "colab": {
          "base_uri": "https://localhost:8080/"
        },
        "outputId": "ce39ae93-13db-49b2-8ef2-3422fecfa716"
      },
      "execution_count": null,
      "outputs": [
        {
          "output_type": "execute_result",
          "data": {
            "text/plain": [
              "11"
            ]
          },
          "metadata": {},
          "execution_count": 3
        }
      ]
    },
    {
      "cell_type": "code",
      "source": [
        "# 3\n",
        "my_str =\"Python Programming\"\n",
        "my_str[3:18]"
      ],
      "metadata": {
        "colab": {
          "base_uri": "https://localhost:8080/",
          "height": 35
        },
        "id": "OhvNphcuULwQ",
        "outputId": "b28a9233-2a84-49b1-dc1d-8e294330a9e0"
      },
      "execution_count": null,
      "outputs": [
        {
          "output_type": "execute_result",
          "data": {
            "text/plain": [
              "'hon Programming'"
            ],
            "application/vnd.google.colaboratory.intrinsic+json": {
              "type": "string"
            }
          },
          "metadata": {},
          "execution_count": 9
        }
      ]
    },
    {
      "cell_type": "code",
      "source": [
        "# 4\n",
        "my_str = \"hello\"\n",
        "my_str.upper()"
      ],
      "metadata": {
        "colab": {
          "base_uri": "https://localhost:8080/",
          "height": 35
        },
        "id": "3LYPPxGjUL8_",
        "outputId": "d685f7b8-5046-4b34-8f88-f2a2ad6efa7d"
      },
      "execution_count": null,
      "outputs": [
        {
          "output_type": "execute_result",
          "data": {
            "text/plain": [
              "'HELLO'"
            ],
            "application/vnd.google.colaboratory.intrinsic+json": {
              "type": "string"
            }
          },
          "metadata": {},
          "execution_count": 10
        }
      ]
    },
    {
      "cell_type": "code",
      "source": [
        "# 5\n",
        "my_str =\"I like apple\"\n",
        "my_str.replace(\"apple\",\"orange\")"
      ],
      "metadata": {
        "colab": {
          "base_uri": "https://localhost:8080/",
          "height": 35
        },
        "id": "DEtfUMd9X61x",
        "outputId": "433eed80-4acd-4943-91eb-5e9f545f7e68"
      },
      "execution_count": null,
      "outputs": [
        {
          "output_type": "execute_result",
          "data": {
            "text/plain": [
              "'I like orange'"
            ],
            "application/vnd.google.colaboratory.intrinsic+json": {
              "type": "string"
            }
          },
          "metadata": {},
          "execution_count": 11
        }
      ]
    },
    {
      "cell_type": "code",
      "source": [
        "# 6\n",
        "my_list = [1,2,3,4,5]\n",
        "print(my_list)"
      ],
      "metadata": {
        "colab": {
          "base_uri": "https://localhost:8080/"
        },
        "id": "IftXtoRdYcU_",
        "outputId": "291606d5-8081-446c-ad67-1a733de03cc8"
      },
      "execution_count": null,
      "outputs": [
        {
          "output_type": "stream",
          "name": "stdout",
          "text": [
            "[1, 2, 3, 4, 5]\n"
          ]
        }
      ]
    },
    {
      "cell_type": "code",
      "source": [
        "# 7\n",
        "my_list = [1,2,3,4]\n",
        "my_list.append(10)\n",
        "my_list"
      ],
      "metadata": {
        "colab": {
          "base_uri": "https://localhost:8080/"
        },
        "id": "gTHKjoFLYscG",
        "outputId": "deace288-5e06-44ae-ca13-d0ce647dc583"
      },
      "execution_count": null,
      "outputs": [
        {
          "output_type": "execute_result",
          "data": {
            "text/plain": [
              "[1, 2, 3, 4, 10]"
            ]
          },
          "metadata": {},
          "execution_count": 14
        }
      ]
    },
    {
      "cell_type": "code",
      "source": [
        "# 8\n",
        "my_list = [1,2,3,4,5]\n",
        "my_list.remove(3)\n",
        "my_list"
      ],
      "metadata": {
        "colab": {
          "base_uri": "https://localhost:8080/"
        },
        "id": "LIlsEtOOZVUN",
        "outputId": "560d5c63-c8a0-402d-aeda-add90431997a"
      },
      "execution_count": null,
      "outputs": [
        {
          "output_type": "execute_result",
          "data": {
            "text/plain": [
              "[1, 2, 4, 5]"
            ]
          },
          "metadata": {},
          "execution_count": 16
        }
      ]
    },
    {
      "cell_type": "code",
      "source": [
        "# 9\n",
        "my_list = ['a','b','c','d']\n",
        "second_element = my_list[1]\n",
        "print(second_element)"
      ],
      "metadata": {
        "colab": {
          "base_uri": "https://localhost:8080/"
        },
        "id": "IzzmxispcHnN",
        "outputId": "1549f359-537b-4a88-b2a9-2382b73d2d7d"
      },
      "execution_count": null,
      "outputs": [
        {
          "output_type": "stream",
          "name": "stdout",
          "text": [
            "b\n"
          ]
        }
      ]
    },
    {
      "cell_type": "code",
      "source": [
        "# 10\n",
        "my_list =[10,20,30,40,50]\n",
        "my_list.reverse()\n",
        "my_list"
      ],
      "metadata": {
        "id": "6-z7jK93UMHp",
        "colab": {
          "base_uri": "https://localhost:8080/"
        },
        "outputId": "d0c55b07-5d1c-4e80-a8bb-387cf625a54c"
      },
      "execution_count": null,
      "outputs": [
        {
          "output_type": "execute_result",
          "data": {
            "text/plain": [
              "[50, 40, 30, 20, 10]"
            ]
          },
          "metadata": {},
          "execution_count": 25
        }
      ]
    },
    {
      "cell_type": "code",
      "source": [
        "# 11\n",
        "my_tuple = (100,200,300)\n",
        "print(my_tuple)"
      ],
      "metadata": {
        "id": "nzoaO7IPfJGm",
        "colab": {
          "base_uri": "https://localhost:8080/"
        },
        "outputId": "71d04a4d-2db5-436f-bfbf-adc4f6d58c30"
      },
      "execution_count": null,
      "outputs": [
        {
          "output_type": "stream",
          "name": "stdout",
          "text": [
            "(100, 200, 300)\n"
          ]
        }
      ]
    },
    {
      "cell_type": "code",
      "source": [
        "# 12\n",
        "color = (\"red\",\"green\",\"blue\",\"yellow\")\n",
        "color[-2]"
      ],
      "metadata": {
        "colab": {
          "base_uri": "https://localhost:8080/",
          "height": 35
        },
        "id": "2Y0Upc-mgJXl",
        "outputId": "b9319d5d-e03f-4776-971d-c85b2ca78f99"
      },
      "execution_count": null,
      "outputs": [
        {
          "output_type": "execute_result",
          "data": {
            "text/plain": [
              "'blue'"
            ],
            "application/vnd.google.colaboratory.intrinsic+json": {
              "type": "string"
            }
          },
          "metadata": {},
          "execution_count": 28
        }
      ]
    },
    {
      "cell_type": "code",
      "source": [
        "# 13\n",
        "my_tuple = (10,20,5,15)\n",
        "min(my_tuple)"
      ],
      "metadata": {
        "id": "ponjUn7KfJQ0",
        "colab": {
          "base_uri": "https://localhost:8080/"
        },
        "outputId": "aa6960b1-b303-44a8-866b-5009ad2cfe8e"
      },
      "execution_count": null,
      "outputs": [
        {
          "output_type": "execute_result",
          "data": {
            "text/plain": [
              "5"
            ]
          },
          "metadata": {},
          "execution_count": 29
        }
      ]
    },
    {
      "cell_type": "code",
      "source": [
        "# 14\n",
        "my_tuple = (\"dog\",\"cat\",\"rabbit\")\n",
        "my_tuple.index(\"cat\")"
      ],
      "metadata": {
        "colab": {
          "base_uri": "https://localhost:8080/"
        },
        "id": "lvkvgS5Li1qZ",
        "outputId": "0858b763-02d5-4df3-cb17-f78a4584d3f0"
      },
      "execution_count": null,
      "outputs": [
        {
          "output_type": "execute_result",
          "data": {
            "text/plain": [
              "1"
            ]
          },
          "metadata": {},
          "execution_count": 30
        }
      ]
    },
    {
      "cell_type": "code",
      "source": [
        "# 15\n",
        "my_fruit = (\"apple\",\"banana\",\"orange\")\n",
        "\"kiwi\" in my_fruit"
      ],
      "metadata": {
        "id": "Poo20AmvfJU_",
        "colab": {
          "base_uri": "https://localhost:8080/"
        },
        "outputId": "3e27cde8-981b-4260-bb10-58a398e31ac7"
      },
      "execution_count": null,
      "outputs": [
        {
          "output_type": "execute_result",
          "data": {
            "text/plain": [
              "False"
            ]
          },
          "metadata": {},
          "execution_count": 31
        }
      ]
    },
    {
      "cell_type": "code",
      "source": [
        "# 16\n",
        "my_set = {'a','b','c'}\n",
        "print(my_set)"
      ],
      "metadata": {
        "id": "VZTERl7lfJZT",
        "colab": {
          "base_uri": "https://localhost:8080/"
        },
        "outputId": "9151b9fa-f09a-4cfb-8d4a-53ac1de119a9"
      },
      "execution_count": null,
      "outputs": [
        {
          "output_type": "stream",
          "name": "stdout",
          "text": [
            "{'b', 'c', 'a'}\n"
          ]
        }
      ]
    },
    {
      "cell_type": "code",
      "source": [
        "# 17\n",
        "my_set ={1,2,3,4,5}\n",
        "my_set.clear()\n",
        "my_set"
      ],
      "metadata": {
        "colab": {
          "base_uri": "https://localhost:8080/"
        },
        "id": "7XWbf2r_kMsp",
        "outputId": "69f3bd8f-95d9-4cf1-9ee6-453b67a60850"
      },
      "execution_count": null,
      "outputs": [
        {
          "output_type": "execute_result",
          "data": {
            "text/plain": [
              "set()"
            ]
          },
          "metadata": {},
          "execution_count": 35
        }
      ]
    },
    {
      "cell_type": "code",
      "source": [
        "# 18\n",
        "my_set = {1,2,3,4}\n",
        "my_set.remove(4)\n",
        "my_set"
      ],
      "metadata": {
        "id": "WvB9TCwJfJdM",
        "colab": {
          "base_uri": "https://localhost:8080/"
        },
        "outputId": "85bf3897-722a-4e83-fe1c-aa540bdb1241"
      },
      "execution_count": null,
      "outputs": [
        {
          "output_type": "execute_result",
          "data": {
            "text/plain": [
              "{1, 2, 3}"
            ]
          },
          "metadata": {},
          "execution_count": 36
        }
      ]
    },
    {
      "cell_type": "code",
      "source": [
        "# 19\n",
        "my_set1 = {1,2,3}\n",
        "my_set2 = {3,4,5}\n",
        "my_set1|my_set2"
      ],
      "metadata": {
        "id": "trHICDeQfJhA",
        "colab": {
          "base_uri": "https://localhost:8080/"
        },
        "outputId": "11ce4ded-9881-4db7-d733-7e5f3122c4d9"
      },
      "execution_count": null,
      "outputs": [
        {
          "output_type": "execute_result",
          "data": {
            "text/plain": [
              "{1, 2, 3, 4, 5}"
            ]
          },
          "metadata": {},
          "execution_count": 37
        }
      ]
    },
    {
      "cell_type": "code",
      "source": [
        "# 20\n",
        "my_set1 ={1,2,3}\n",
        "my_set2 ={2,3,4}\n",
        "my_set1&my_set2"
      ],
      "metadata": {
        "id": "AaCj5PALfJkm",
        "colab": {
          "base_uri": "https://localhost:8080/"
        },
        "outputId": "32e0a3e7-e547-4614-efb6-9aa25e617d45"
      },
      "execution_count": null,
      "outputs": [
        {
          "output_type": "execute_result",
          "data": {
            "text/plain": [
              "{2, 3}"
            ]
          },
          "metadata": {},
          "execution_count": 38
        }
      ]
    },
    {
      "cell_type": "code",
      "source": [
        "# 21\n",
        "my_dict ={\"name\":\"yajnasenee\",\"age\":24,\"city\":\"kendrapara\"}\n",
        "print(my_dict)"
      ],
      "metadata": {
        "id": "WmumIsgSfJn4",
        "colab": {
          "base_uri": "https://localhost:8080/"
        },
        "outputId": "43bffb39-3c49-40bb-cacb-e365dd0b256e"
      },
      "execution_count": null,
      "outputs": [
        {
          "output_type": "stream",
          "name": "stdout",
          "text": [
            "{'name': 'yajnasenee', 'age': 24, 'city': 'kendrapara'}\n"
          ]
        }
      ]
    },
    {
      "cell_type": "code",
      "source": [
        "# 22\n",
        "my_dict ={\"name\":\"John\",\"age\": 25}\n",
        "my_dict[\"country\"]=\"USA\"\n",
        "my_dict"
      ],
      "metadata": {
        "colab": {
          "base_uri": "https://localhost:8080/"
        },
        "id": "NDDqh4cUsxwh",
        "outputId": "31fba42b-2b54-4f19-9fa6-22bf51583e9f"
      },
      "execution_count": null,
      "outputs": [
        {
          "output_type": "execute_result",
          "data": {
            "text/plain": [
              "{'name': 'John', 'age': 25, 'country': 'USA'}"
            ]
          },
          "metadata": {},
          "execution_count": 40
        }
      ]
    },
    {
      "cell_type": "code",
      "source": [
        "# 23\n",
        "my_dict = {'name': 'Alice', 'age': 30}\n",
        "my_dict[\"name\"]\n"
      ],
      "metadata": {
        "colab": {
          "base_uri": "https://localhost:8080/",
          "height": 35
        },
        "id": "VThdTn5g0jPN",
        "outputId": "db8931bd-5288-4a58-b1cc-4918d32b4505"
      },
      "execution_count": null,
      "outputs": [
        {
          "output_type": "execute_result",
          "data": {
            "text/plain": [
              "'Alice'"
            ],
            "application/vnd.google.colaboratory.intrinsic+json": {
              "type": "string"
            }
          },
          "metadata": {},
          "execution_count": 42
        }
      ]
    },
    {
      "cell_type": "code",
      "source": [
        "# 24\n",
        "my_dict = {'name': 'Bob', 'age': 22, 'city': 'New York'}\n",
        "del my_dict['age']\n",
        "my_dict"
      ],
      "metadata": {
        "colab": {
          "base_uri": "https://localhost:8080/"
        },
        "id": "5zFfl8fc0jbj",
        "outputId": "7fe82664-5ff7-4e8e-a23e-2d27548c18bd"
      },
      "execution_count": null,
      "outputs": [
        {
          "output_type": "execute_result",
          "data": {
            "text/plain": [
              "{'name': 'Bob', 'city': 'New York'}"
            ]
          },
          "metadata": {},
          "execution_count": 47
        }
      ]
    },
    {
      "cell_type": "code",
      "source": [
        "# 25\n",
        "my_dict ={'name': 'Alice', 'city': 'Paris'}\n",
        "if 'city' in my_dict:\n",
        "  print(\"city is exists in my_dict\")\n",
        "else:\n",
        "  print(\"city is not exists in my_dict\")\n"
      ],
      "metadata": {
        "id": "TLadgveo0jk4",
        "colab": {
          "base_uri": "https://localhost:8080/"
        },
        "outputId": "6eb87007-45f9-4f2d-a1e2-789976508bc2"
      },
      "execution_count": null,
      "outputs": [
        {
          "output_type": "stream",
          "name": "stdout",
          "text": [
            "city is exists in my_dict\n"
          ]
        }
      ]
    },
    {
      "cell_type": "code",
      "source": [
        "# 26\n",
        "my_list =[1,2,3,4,5]\n",
        "my_tuple =(10,20,30,40,50)\n",
        "my_dict = {'name': 'Bob', 'age': 22, 'city': 'New York'}\n",
        "\n",
        "print(\"list:\",my_list)\n",
        "print(\"tuple:\",my_tuple)\n",
        "print(\"dict:\",my_dict)"
      ],
      "metadata": {
        "colab": {
          "base_uri": "https://localhost:8080/"
        },
        "id": "TBoZfrMhirO2",
        "outputId": "be8ea391-a997-49af-ea94-ca0eb6849522"
      },
      "execution_count": null,
      "outputs": [
        {
          "output_type": "stream",
          "name": "stdout",
          "text": [
            "list: [1, 2, 3, 4, 5]\n",
            "tuple: (10, 20, 30, 40, 50)\n",
            "dict: {'name': 'Bob', 'age': 22, 'city': 'New York'}\n"
          ]
        }
      ]
    },
    {
      "cell_type": "code",
      "source": [
        "# 27\n",
        "import random\n",
        "random_numbers = [random.randint(1, 100) for _ in range(5)]\n",
        "random_numbers.sort()\n",
        "print(\"Sorted list of random numbers:\", random_numbers)"
      ],
      "metadata": {
        "colab": {
          "base_uri": "https://localhost:8080/"
        },
        "id": "f9nhBO6GkUBX",
        "outputId": "6304d4a2-fb45-468c-df01-8582dbe7bd83"
      },
      "execution_count": null,
      "outputs": [
        {
          "output_type": "stream",
          "name": "stdout",
          "text": [
            "Sorted list of random numbers: [11, 35, 42, 51, 68]\n"
          ]
        }
      ]
    },
    {
      "cell_type": "code",
      "source": [
        "# 28\n",
        "my_list =[\"apple\",\"banana\",\"orange\",\"kiwi\"]\n",
        "print(\"the element at the third index:\",my_list[3])"
      ],
      "metadata": {
        "colab": {
          "base_uri": "https://localhost:8080/"
        },
        "id": "Eadb66kToSKy",
        "outputId": "bd3ba688-1822-4abe-8e8c-cd4427b2507a"
      },
      "execution_count": null,
      "outputs": [
        {
          "output_type": "stream",
          "name": "stdout",
          "text": [
            "the element at the third index: kiwi\n"
          ]
        }
      ]
    },
    {
      "cell_type": "code",
      "source": [
        "# 29\n",
        "my_dict1 = {'name': 'Bob', 'age': 22, 'city': 'New York'}\n",
        "my_dict2 = {'country':'USA','occupation':'engineer'}\n",
        "my_dict1.update(my_dict2) # combine two dictionaries into one\n",
        "print(my_dict1)\n"
      ],
      "metadata": {
        "colab": {
          "base_uri": "https://localhost:8080/"
        },
        "id": "XiOpcA17p1oQ",
        "outputId": "aeea83e7-7a80-4420-db68-443f70555313"
      },
      "execution_count": null,
      "outputs": [
        {
          "output_type": "stream",
          "name": "stdout",
          "text": [
            "{'name': 'Bob', 'age': 22, 'city': 'New York', 'country': 'USA', 'occupation': 'engineer'}\n"
          ]
        }
      ]
    },
    {
      "cell_type": "code",
      "source": [
        "# 30\n",
        "# list of strings\n",
        "strings_list = [\"apple\", \"banana\", \"apple\", \"cherry\", \"banana\"]\n",
        "string_set = set(strings_list) # converting list to set\n",
        "string_set\n"
      ],
      "metadata": {
        "colab": {
          "base_uri": "https://localhost:8080/"
        },
        "id": "lBXT-FZXsACB",
        "outputId": "5f688b6e-6ca7-402e-986f-e576a131aed7"
      },
      "execution_count": null,
      "outputs": [
        {
          "output_type": "execute_result",
          "data": {
            "text/plain": [
              "{'apple', 'banana', 'cherry'}"
            ]
          },
          "metadata": {},
          "execution_count": 20
        }
      ]
    }
  ]
}